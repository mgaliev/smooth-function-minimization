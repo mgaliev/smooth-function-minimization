{
 "cells": [
  {
   "cell_type": "code",
   "execution_count": 1,
   "metadata": {
    "collapsed": false
   },
   "outputs": [],
   "source": [
    "import numpy as np\n",
    "import matplotlib.pyplot as plt\n",
    "import scipy.optimize\n",
    "%matplotlib inline"
   ]
  },
  {
   "cell_type": "code",
   "execution_count": 2,
   "metadata": {
    "collapsed": true
   },
   "outputs": [],
   "source": [
    "def f(x):\n",
    "    x = float(x)\n",
    "    return np.sin(x/5)*np.exp(x/10) + 5*np.exp(-x/2)"
   ]
  },
  {
   "cell_type": "code",
   "execution_count": 3,
   "metadata": {
    "collapsed": true
   },
   "outputs": [],
   "source": [
    "res = scipy.optimize.minimize(f, 2, method='BFGS')"
   ]
  },
  {
   "cell_type": "code",
   "execution_count": 4,
   "metadata": {
    "collapsed": false
   },
   "outputs": [
    {
     "name": "stdout",
     "output_type": "stream",
     "text": [
      "Func min = 1.75 at x = [ 4.13627618]; required 6 iterations\n"
     ]
    }
   ],
   "source": [
    "print('Func min = {0} at x = {1}; required {2} iterations'.format(np.round(res.fun, 2), res.x, res.nit))"
   ]
  },
  {
   "cell_type": "code",
   "execution_count": 5,
   "metadata": {
    "collapsed": false
   },
   "outputs": [
    {
     "name": "stdout",
     "output_type": "stream",
     "text": [
      "Func min = -11.9 at x = [ 25.88019339]; required 6 iterations\n"
     ]
    }
   ],
   "source": [
    "res = scipy.optimize.minimize(f, 30, method='BFGS')\n",
    "print('Func min = {0} at x = {1}; required {2} iterations'.format(np.round(res.fun, 2), res.x, res.nit))"
   ]
  },
  {
   "cell_type": "code",
   "execution_count": 17,
   "metadata": {
    "collapsed": false
   },
   "outputs": [
    {
     "name": "stdout",
     "output_type": "stream",
     "text": [
      "Func min = -11.9 at x = [ 25.88020172]; required 5 iterations\n"
     ]
    }
   ],
   "source": [
    "res = scipy.optimize.differential_evolution(f, [(1, 30)])\n",
    "print('Func min = {0} at x = {1}; required {2} iterations'.format(np.round(res.fun, 2), res.x, res.nit))"
   ]
  },
  {
   "cell_type": "code",
   "execution_count": 7,
   "metadata": {
    "collapsed": true
   },
   "outputs": [],
   "source": [
    "def g(x):\n",
    "    return int(np.sin(x/5)*np.exp(x/10) + 5*np.exp(-x/2))"
   ]
  },
  {
   "cell_type": "code",
   "execution_count": 8,
   "metadata": {
    "collapsed": false
   },
   "outputs": [
    {
     "name": "stdout",
     "output_type": "stream",
     "text": [
      "Func min = -5 at x = [ 30.]; required 2 iterations\n"
     ]
    }
   ],
   "source": [
    "res = scipy.optimize.minimize(g, 30, method='BFGS')\n",
    "print('Func min = {0} at x = {1}; required {2} iterations'.format(res.fun, res.x, 2, res.nit))"
   ]
  },
  {
   "cell_type": "code",
   "execution_count": 9,
   "metadata": {
    "collapsed": false
   },
   "outputs": [
    {
     "name": "stdout",
     "output_type": "stream",
     "text": [
      "Func min = -11.0 at x = [ 27.]; required 5 iterations\n"
     ]
    }
   ],
   "source": [
    "res = scipy.optimize.differential_evolution(g, [(1, 30)])\n",
    "print('Func min = {0} at x = {1}; required {2} iterations'.format(res.fun, np.round(res.x), res.nit))"
   ]
  },
  {
   "cell_type": "code",
   "execution_count": 10,
   "metadata": {
    "collapsed": false
   },
   "outputs": [],
   "source": [
    "x = np.arange(1, 30, 0.1)"
   ]
  },
  {
   "cell_type": "code",
   "execution_count": 11,
   "metadata": {
    "collapsed": false
   },
   "outputs": [],
   "source": [
    "y = [f(x) for x in x]\n",
    "y2 = [g(x) for x in x]"
   ]
  },
  {
   "cell_type": "code",
   "execution_count": 12,
   "metadata": {
    "collapsed": false
   },
   "outputs": [
    {
     "data": {
      "image/png": "[encoded data removed]",
      "text/plain": [
       "<matplotlib.figure.Figure at 0x98ae8b0>"
      ]
     },
     "metadata": {},
     "output_type": "display_data"
    }
   ],
   "source": [
    "plt.plot(x, y)\n",
    "plt.plot(x, y2)\n",
    "plt.plot(res.x, f(res.x), 'bo')\n",
    "plt.show()"
   ]
  },
  {
   "cell_type": "code",
   "execution_count": null,
   "metadata": {
    "collapsed": true
   },
   "outputs": [],
   "source": []
  }
 ],
 "metadata": {
  "anaconda-cloud": {},
  "kernelspec": {
   "display_name": "Python [conda root]",
   "language": "python",
   "name": "conda-root-py"
  },
  "language_info": {
   "codemirror_mode": {
    "name": "ipython",
    "version": 3
   },
   "file_extension": ".py",
   "mimetype": "text/x-python",
   "name": "python",
   "nbconvert_exporter": "python",
   "pygments_lexer": "ipython3",
   "version": "3.5.2"
  }
 },
 "nbformat": 4,
 "nbformat_minor": 1
}
